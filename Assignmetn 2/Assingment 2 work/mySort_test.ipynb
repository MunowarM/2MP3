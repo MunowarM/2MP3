{
  "cells": [
    {
      "cell_type": "code",
      "execution_count": null,
      "metadata": {
        "colab": {
          "base_uri": "https://localhost:8080/",
          "height": 52
        },
        "id": "Cm0Psc_OnRiR",
        "outputId": "008a3481-5367-49ec-b3c7-804230433e7c"
      },
      "outputs": [
        {
          "output_type": "stream",
          "name": "stdout",
          "text": [
            "Drive already mounted at /content/drive; to attempt to forcibly remount, call drive.mount(\"/content/drive\", force_remount=True).\n"
          ]
        },
        {
          "output_type": "execute_result",
          "data": {
            "text/plain": [
              "'\\nThis will prompt you to authenticate and allow access to your Google Drive.\\n'"
            ],
            "application/vnd.google.colaboratory.intrinsic+json": {
              "type": "string"
            }
          },
          "metadata": {},
          "execution_count": 9
        }
      ],
      "source": [
        "\"\"\"\n",
        "If you are using Python on your OS, you don't need to mount your Google Drive.\n",
        "You can mount your Google Drive to access files stored there. In Colab, run the\n",
        "following code:\n",
        "\"\"\"\n",
        "from google.colab import drive\n",
        "drive.mount('/content/drive')\n",
        "\"\"\"\n",
        "This will prompt you to authenticate and allow access to your Google Drive.\n",
        "\"\"\""
      ]
    },
    {
      "cell_type": "code",
      "execution_count": null,
      "metadata": {
        "id": "A0vDPQxHkwg9"
      },
      "outputs": [],
      "source": [
        "\"\"\"\n",
        "We use `time` to meausre the time taken by each function.\n",
        "\"\"\"\n",
        "import time\n",
        "\n",
        "\"\"\"\n",
        "You can use Python's `ctypes` library to interface with the C shared library.\n",
        "This allows you to call functions from the shared library in Python.\n",
        "\n",
        "After compiling your C source code and creating `libmysort.so` shared lib with:\n",
        "`gcc -fPIC -shared -o libmysort.so mysort.c`,\n",
        "We will be able to load the shared library named `libmysort.so` in Python using\n",
        "`ctypes.CDLL` function.\n",
        "\n",
        "Ensure the shared library is in the same directory as the Python script or in a\n",
        "location where it can be found by the loader.\n",
        "\"\"\"\n",
        "import ctypes\n",
        "\n",
        "\"\"\"\n",
        "We use `numpy` library to create a manipulate multidimensional arrays.\n",
        "\"\"\"\n",
        "import numpy as np\n",
        "\n",
        "\"\"\"\n",
        "You can share the memory between Python and C directly using the ndpointer class\n",
        "from the numpy.ctypeslib module. This avoids copying the data and instead passes\n",
        "a pointer to the NumPy array’s underlying memory buffer. We will use `ndpointer`\n",
        "to specify the data type of inputs to the functions.\n",
        "\"\"\"\n",
        "from numpy.ctypeslib import ndpointer"
      ]
    },
    {
      "cell_type": "code",
      "execution_count": null,
      "metadata": {
        "id": "WNIavPDxO0Fu"
      },
      "outputs": [],
      "source": [
        "\n",
        "# Modified:\n",
        "!gcc -O3 -fPIC -shared -o /content/drive/MyDrive/libmysort.so /content/drive/MyDrive/mySort.c"
      ]
    },
    {
      "cell_type": "code",
      "execution_count": null,
      "metadata": {
        "id": "d78YdcPVx7rh"
      },
      "outputs": [],
      "source": [
        "\n",
        "\"\"\"Path to the shared library on Google Drive. Mine is in this directory, you can\n",
        "change it based on your needs. If you are using your own OS, not colab, just use\n",
        "'./libmysort.so' if it is in the corrent directory.\n",
        "\"\"\"\n",
        "lib_path = '/content/drive/MyDrive/libmysort.so'\n",
        "\n",
        "# Load the shared library\n",
        "mySortLib = ctypes.CDLL(lib_path)\n",
        "\n",
        "# Define input argument types without conversion using ndpointer\n",
        "mySortLib.bubbleSort.argtypes = [ndpointer(ctypes.c_int, flags=\"C_CONTIGUOUS\"), ctypes.c_int]\n",
        "mySortLib.bubbleSort.restype = None\n",
        "\n",
        "mySortLib.insertionSort.argtypes = [ndpointer(ctypes.c_int, flags=\"C_CONTIGUOUS\"), ctypes.c_int]\n",
        "mySortLib.insertionSort.restype = None\n",
        "\n",
        "mySortLib.mergeSort.argtypes = [ndpointer(ctypes.c_int, flags=\"C_CONTIGUOUS\"), ctypes.c_int]\n",
        "mySortLib.mergeSort.restype = None\n",
        "\n",
        "mySortLib.heapSort.argtypes = [ndpointer(ctypes.c_int, flags=\"C_CONTIGUOUS\"), ctypes.c_int]\n",
        "mySortLib.heapSort.restype = None\n",
        "\n",
        "mySortLib.countSort.argtypes = [ndpointer(ctypes.c_int, flags=\"C_CONTIGUOUS\"), ctypes.c_int]\n",
        "mySortLib.countSort.restype = None\n"
      ]
    },
    {
      "cell_type": "code",
      "execution_count": null,
      "metadata": {
        "colab": {
          "base_uri": "https://localhost:8080/"
        },
        "collapsed": true,
        "id": "C1_7sZXfk4l-",
        "outputId": "fcdb3a0e-2712-45c0-e35c-56a550e4bb03"
      },
      "outputs": [
        {
          "name": "stdout",
          "output_type": "stream",
          "text": [
            "Original array: [  64 -134   -5    0   25   12   22   11   90]\n",
            "Sorted array using Bubble Sort: [ 0 11 12 22 25 64 90 11 90]\n"
          ]
        }
      ],
      "source": [
        "# Running a simple test\n",
        "arr0 = np.array([64, -134, -5, 0, 25, 12, 22, 11, 90], dtype=np.int32)\n",
        "n = len(arr0)\n",
        "print(\"Original array:\", arr0)\n",
        "\n",
        "#mySortLib.mergeSort(arr0, 0, n-1)\n",
        "mySortLib.countSort(arr0, n)\n",
        "\n",
        "print(\"Sorted array using Bubble Sort:\", arr0)"
      ]
    },
    {
      "cell_type": "code",
      "execution_count": null,
      "metadata": {
        "colab": {
          "base_uri": "https://localhost:8080/"
        },
        "id": "WsqIeZURtUP5",
        "outputId": "97842c86-7b2c-4a1d-ca2f-ba7111253913"
      },
      "outputs": [
        {
          "output_type": "stream",
          "name": "stdout",
          "text": [
            "Original array: [ 484301 1888224 1548081 ... 1112869  482999 1181669]\n"
          ]
        }
      ],
      "source": [
        "# Creating a large test case\n",
        "arr = np.random.choice(np.arange(0, 2000000, dtype=np.int32), size=500000, replace=False)\n",
        "n = len(arr)\n",
        "print(\"Original array:\", arr)"
      ]
    },
    {
      "cell_type": "code",
      "execution_count": null,
      "metadata": {
        "colab": {
          "base_uri": "https://localhost:8080/"
        },
        "id": "pPrsFng0yzNO",
        "outputId": "d466854a-b0e7-4765-a9e4-4e0aedb64130"
      },
      "outputs": [
        {
          "output_type": "stream",
          "name": "stdout",
          "text": [
            "Sorted array using Merge Sort: [      2       4       7 ... 1999986 1999987 1999989]\n",
            "Time to convert: 0.0825808048248291 seconds\n",
            "Sorted array using heap Sort: [      2       4       7 ... 1999986 1999987 1999989]\n",
            "Time to convert: 0.10169482231140137 seconds\n",
            "Sorted array using insertion Sort: [      2       4       7 ... 1999986 1999987 1999989]\n",
            "Time to convert: 59.310158014297485 seconds\n",
            "Sorted array using count Sort: [      2       4       7 ... 1999986 1999987 1999989]\n",
            "Time to convert: 0.019338369369506836 seconds\n",
            "Sorted array using bubble Sort: [      2       4       7 ... 1999986 1999987 1999989]\n",
            "Time to convert: 670.2328097820282 seconds\n"
          ]
        }
      ],
      "source": [
        "arr_copy = np.copy(arr)\n",
        "start = time.time()\n",
        "mySortLib.mergeSort(arr_copy,0, n-1)\n",
        "end = time.time()\n",
        "print(\"Sorted array using Merge Sort:\", arr_copy)\n",
        "print(f\"Time to convert: {end - start} seconds\")\n",
        "\n",
        "\n",
        "arr_copy = np.copy(arr)\n",
        "start = time.time()\n",
        "mySortLib.heapSort(arr_copy, n)\n",
        "end = time.time()\n",
        "print(\"Sorted array using heap Sort:\", arr_copy)\n",
        "print(f\"Time to convert: {end - start} seconds\")\n",
        "\n",
        "arr_copy = np.copy(arr)\n",
        "start = time.time()\n",
        "mySortLib.insertionSort(arr_copy, n)\n",
        "end = time.time()\n",
        "print(\"Sorted array using insertion Sort:\", arr_copy)\n",
        "print(f\"Time to convert: {end - start} seconds\")\n",
        "\n",
        "arr_copy = np.copy(arr)\n",
        "start = time.time()\n",
        "mySortLib.countSort(arr_copy, n)\n",
        "end = time.time()\n",
        "print(\"Sorted array using count Sort:\", arr_copy)\n",
        "print(f\"Time to convert: {end - start} seconds\")\n",
        "\n",
        "arr_copy = np.copy(arr)\n",
        "start = time.time()\n",
        "mySortLib.bubbleSort(arr_copy, n)\n",
        "end = time.time()\n",
        "print(\"Sorted array using bubble Sort:\", arr_copy)\n",
        "print(f\"Time to convert: {end - start} seconds\")\n"
      ]
    },
    {
      "cell_type": "code",
      "execution_count": null,
      "metadata": {
        "colab": {
          "base_uri": "https://localhost:8080/",
          "height": 35
        },
        "id": "G9DN9z-6HR_I",
        "outputId": "814f06f1-0c1b-47ce-a76b-913c4fd58bec"
      },
      "outputs": [
        {
          "data": {
            "application/vnd.google.colaboratory.intrinsic+json": {
              "type": "string"
            },
            "text/plain": [
              "'\\nCODE: do the same for insertion sort, merge sort, heap sort, and counting sort.\\n'"
            ]
          },
          "execution_count": 34,
          "metadata": {},
          "output_type": "execute_result"
        }
      ],
      "source": [
        "\"\"\"\n",
        "CODE: do the same for insertion sort, merge sort, heap sort, and counting sort.\n",
        "\"\"\""
      ]
    },
    {
      "cell_type": "code",
      "execution_count": null,
      "metadata": {
        "colab": {
          "base_uri": "https://localhost:8080/"
        },
        "id": "VKStSUINAFdb",
        "outputId": "1c10e98a-de50-4d40-eb54-d435e3b36c99"
      },
      "outputs": [
        {
          "output_type": "stream",
          "name": "stdout",
          "text": [
            "Time taken by built-in sort: 0.49102187156677246 seconds\n"
          ]
        }
      ],
      "source": [
        "# Compare with built-in sort\n",
        "arr_copy = np.copy(arr)\n",
        "start = time.time()\n",
        "sorted_arr = sorted(arr_copy)  # Python's built-in sort\n",
        "end = time.time()\n",
        "print(\"Time taken by built-in sort:\", end - start, \"seconds\")\n"
      ]
    },
    {
      "cell_type": "code",
      "execution_count": null,
      "metadata": {
        "colab": {
          "base_uri": "https://localhost:8080/"
        },
        "id": "uQ3afi3nALYO",
        "outputId": "a8eb12bb-d9bf-4620-d7b5-15702ce416d0"
      },
      "outputs": [
        {
          "output_type": "stream",
          "name": "stdout",
          "text": [
            "Time taken by NumPy sort: 0.050307273864746094 seconds\n"
          ]
        }
      ],
      "source": [
        "# You can also use NumPy's np.sort(), which is highly optimized:\n",
        "arr_copy = np.copy(arr)\n",
        "start = time.time()\n",
        "np.sort(arr_copy)  # NumPy's optimized sort\n",
        "end = time.time()\n",
        "print(\"Time taken by NumPy sort:\", end - start, \"seconds\")"
      ]
    }
  ],
  "metadata": {
    "colab": {
      "provenance": []
    },
    "kernelspec": {
      "display_name": "Python 3",
      "name": "python3"
    },
    "language_info": {
      "name": "python"
    }
  },
  "nbformat": 4,
  "nbformat_minor": 0
}